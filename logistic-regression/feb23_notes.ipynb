{
 "cells": [
  {
   "cell_type": "code",
   "execution_count": 1,
   "id": "61ea4e00-9de5-4821-825d-e9668ef544f3",
   "metadata": {},
   "outputs": [],
   "source": [
    "import numpy as np"
   ]
  },
  {
   "cell_type": "code",
   "execution_count": 5,
   "id": "32dd6e53-53db-4c71-92aa-c7b2f5fa9dfc",
   "metadata": {},
   "outputs": [],
   "source": [
    "x = np.array([1, .02, .03, .04])\n",
    "w1_1 = np.array([.1, .2, .3, .4])\n",
    "w2_1 = np.array([.5, .6, .7, .8])\n",
    "w3_1 = np.array([.9, 1.0, 1.1, 1.2])\n",
    "w1_2 = np.array([.1, .2, .3])\n"
   ]
  },
  {
   "cell_type": "code",
   "execution_count": 6,
   "id": "a4a3fb2a-dff8-425e-af44-8da3c5bee197",
   "metadata": {},
   "outputs": [],
   "source": [
    "def sigmoid(z):\n",
    "    return 1/(1+np.exp(-z))"
   ]
  },
  {
   "cell_type": "code",
   "execution_count": 8,
   "id": "c04ca626-347a-477b-bed8-32041f7793c8",
   "metadata": {},
   "outputs": [
    {
     "data": {
      "text/plain": [
       "array([0.73105858, 0.88079708])"
      ]
     },
     "execution_count": 8,
     "metadata": {},
     "output_type": "execute_result"
    }
   ],
   "source": [
    "sigmoid(np.array([1,2]))"
   ]
  },
  {
   "cell_type": "code",
   "execution_count": 10,
   "id": "2f621825-b254-47a0-87ed-9dfdce070c7c",
   "metadata": {},
   "outputs": [],
   "source": [
    "a0 = x\n",
    "a1_1 = sigmoid(np.dot(w1_1, a0))\n",
    "a2_1 = sigmoid(np.dot(w2_1, a0))\n",
    "a3_1 = sigmoid(np.dot(w3_1, a0))"
   ]
  },
  {
   "cell_type": "code",
   "execution_count": 11,
   "id": "a2487e17-a33a-4227-9939-cac1ea339820",
   "metadata": {},
   "outputs": [
    {
     "name": "stdout",
     "output_type": "stream",
     "text": [
      "0.5322053516104134 0.637608652621925 0.7312551451284902\n"
     ]
    }
   ],
   "source": [
    "print(a1_1, a2_1, a3_1)"
   ]
  },
  {
   "cell_type": "code",
   "execution_count": 12,
   "id": "09bbe281-56a3-43e5-9cbc-b1e382c572bf",
   "metadata": {},
   "outputs": [
    {
     "name": "stdout",
     "output_type": "stream",
     "text": [
      "[0.53220535 0.63760865 0.73125515]\n"
     ]
    }
   ],
   "source": [
    "a1 = np.array([a1_1, a2_1, a3_1])\n",
    "print(a1)"
   ]
  },
  {
   "cell_type": "code",
   "execution_count": 13,
   "id": "d39f89d2-c946-412c-8009-c40e5bea2c65",
   "metadata": {},
   "outputs": [],
   "source": [
    "a1_2 = sigmoid(np.dot(w1_2, a1))"
   ]
  },
  {
   "cell_type": "code",
   "execution_count": 14,
   "id": "39bf4fec-be9d-4bec-9dda-5f89d3513804",
   "metadata": {},
   "outputs": [
    {
     "name": "stdout",
     "output_type": "stream",
     "text": [
      "0.5987162049704826\n"
     ]
    }
   ],
   "source": [
    "print(a1_2)"
   ]
  },
  {
   "cell_type": "code",
   "execution_count": 15,
   "id": "f9332939-bf07-4b4e-8da5-f8829ea1db76",
   "metadata": {},
   "outputs": [
    {
     "data": {
      "text/plain": [
       "array([[0.1, 0.2, 0.3, 0.4],\n",
       "       [0.5, 0.6, 0.7, 0.8],\n",
       "       [0.9, 1. , 1.1, 1.2]])"
      ]
     },
     "execution_count": 15,
     "metadata": {},
     "output_type": "execute_result"
    }
   ],
   "source": [
    "W1 = np.array([w1_1, w2_1, w3_1])\n",
    "W1"
   ]
  },
  {
   "cell_type": "code",
   "execution_count": 16,
   "id": "b35589ab-cec7-473b-907c-e1863c96eac1",
   "metadata": {},
   "outputs": [
    {
     "data": {
      "text/plain": [
       "array([0.53220535, 0.63760865, 0.73125515])"
      ]
     },
     "execution_count": 16,
     "metadata": {},
     "output_type": "execute_result"
    }
   ],
   "source": [
    "sigmoid(W1 @ a0)"
   ]
  },
  {
   "cell_type": "code",
   "execution_count": null,
   "id": "7532d60e-1ec2-4240-83c6-b61db69496f5",
   "metadata": {},
   "outputs": [],
   "source": []
  }
 ],
 "metadata": {
  "kernelspec": {
   "display_name": "Python 3 (ipykernel)",
   "language": "python",
   "name": "python3"
  },
  "language_info": {
   "codemirror_mode": {
    "name": "ipython",
    "version": 3
   },
   "file_extension": ".py",
   "mimetype": "text/x-python",
   "name": "python",
   "nbconvert_exporter": "python",
   "pygments_lexer": "ipython3",
   "version": "3.8.15"
  }
 },
 "nbformat": 4,
 "nbformat_minor": 5
}
